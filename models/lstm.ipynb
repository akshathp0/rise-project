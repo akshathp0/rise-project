{
 "cells": [
  {
   "cell_type": "code",
   "execution_count": 8,
   "id": "41646a1c",
   "metadata": {},
   "outputs": [
    {
     "name": "stderr",
     "output_type": "stream",
     "text": [
      "/var/folders/qd/xclxh05s0x9509nblm6z434w0000gp/T/ipykernel_57816/4100118079.py:9: FutureWarning: YF.download() has changed argument auto_adjust default to True\n",
      "  prices = yf.download(downloadable_tickers, start = '2010-01-01', end = '2019-12-31')['Close']\n",
      "[*********************100%***********************]  7 of 7 completed\n"
     ]
    }
   ],
   "source": [
    "import torch\n",
    "import yfinance as yf\n",
    "import pandas as pd\n",
    "\n",
    "pairs = [['XLU', 'XLRE'], ['VPU', 'XLRE'], ['SHY', 'VGSH'], ['ARKK', 'ARKW']]\n",
    "\n",
    "downloadable_tickers = [ticker for pair in pairs for ticker in pair]\n",
    "\n",
    "prices = yf.download(downloadable_tickers, start = '2010-01-01', end = '2019-12-31')['Close']"
   ]
  }
 ],
 "metadata": {
  "kernelspec": {
   "display_name": "rise-project",
   "language": "python",
   "name": "python3"
  },
  "language_info": {
   "codemirror_mode": {
    "name": "ipython",
    "version": 3
   },
   "file_extension": ".py",
   "mimetype": "text/x-python",
   "name": "python",
   "nbconvert_exporter": "python",
   "pygments_lexer": "ipython3",
   "version": "3.12.11"
  }
 },
 "nbformat": 4,
 "nbformat_minor": 5
}
