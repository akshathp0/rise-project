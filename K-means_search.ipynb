{
 "cells": [
  {
   "cell_type": "code",
   "execution_count": null,
   "id": "b196a598",
   "metadata": {},
   "outputs": [
    {
     "name": "stderr",
     "output_type": "stream",
     "text": [
      "C:\\Users\\anair26\\AppData\\Local\\Temp\\ipykernel_22284\\747983684.py:12: FutureWarning: YF.download() has changed argument auto_adjust default to True\n",
      "  prices = yf.download(tickers, start = '2015-07-22', end = '2020-07-22')['Close']\n",
      "[*********************100%***********************]  9 of 9 completed\n"
     ]
    },
    {
     "data": {
      "text/plain": [
       "array([[-1.54162178, -1.229724  , -0.84807948, ...,  0.43585745,\n",
       "        -0.44485105, -0.16109453],\n",
       "       [ 1.2830269 , -0.92385135, -1.28902581, ..., -1.67236852,\n",
       "        -1.0344153 ,  2.56359217],\n",
       "       [-0.31655394,  0.1687826 , -0.32266383, ..., -1.13616815,\n",
       "        -0.14317393,  0.41743748],\n",
       "       ...,\n",
       "       [-1.61758451,  1.33810612,  2.34371849, ...,  1.77139741,\n",
       "        -0.7748162 , -0.38240866],\n",
       "       [ 0.70778922, -1.57757614,  0.51121286, ...,  0.93319103,\n",
       "         0.18303401, -0.65684062],\n",
       "       [ 0.2352452 ,  1.23187546, -0.36499428, ..., -0.79740596,\n",
       "         1.38128729, -0.54054445]])"
      ]
     },
     "execution_count": 10,
     "metadata": {},
     "output_type": "execute_result"
    }
   ],
   "source": [
    "import yfinance as yf\n",
    "import pandas as pd\n",
    "from statsmodels.tsa.stattools import coint\n",
    "from sklearn.preprocessing import StandardScaler\n",
    "from sklearn.decomposition import PCA\n",
    "from sklearn.cluster import KMeans\n",
    "import numpy as np\n",
    "import seaborn as sns\n",
    "import matplotlib.pyplot as plt\n",
    "\n",
    "tickers = ['XLB', 'XLE', 'XLF', 'XLI', 'XLK', 'XLP', 'XLV', 'XLY', 'XLU']\n",
    "# XCU, XRE\n",
    "prices = yf.download(tickers, start = '2015-07-22', end = '2020-07-22')['Close']\n",
    "\n",
    "prices.dropna(inplace=True)\n",
    "returns = prices.pct_change().dropna()\n",
    "\n",
    "scaler = StandardScaler()\n",
    "returns_scaled = scaler.fit_transform(returns.T)\n",
    "\n",
    "returns_scaled\n",
    "\n"
   ]
  },
  {
   "cell_type": "code",
   "execution_count": 33,
   "id": "fee299ab",
   "metadata": {},
   "outputs": [
    {
     "data": {
      "text/plain": [
       "array([[ 10.21228526,  -1.53251058],\n",
       "       [ 36.10648543,  30.90266819],\n",
       "       [ 12.76980251, -11.64775256],\n",
       "       [  6.66463181,  -5.61449254],\n",
       "       [ -0.24601306, -19.28087987],\n",
       "       [-20.02781439,   5.58760328],\n",
       "       [-37.05728905,  24.06998058],\n",
       "       [ -8.9212231 , -10.23070841],\n",
       "       [  0.4991346 , -12.2539081 ]])"
      ]
     },
     "execution_count": 33,
     "metadata": {},
     "output_type": "execute_result"
    }
   ],
   "source": [
    "pca = PCA(n_components=2)\n",
    "pca_components = pca.fit_transform(returns_scaled)\n",
    "\n",
    "pca_components"
   ]
  },
  {
   "cell_type": "code",
   "execution_count": 29,
   "id": "d081da2e",
   "metadata": {},
   "outputs": [
    {
     "data": {
      "text/plain": [
       "array([0, 2, 0, 0, 0, 1, 1, 0, 0], dtype=int32)"
      ]
     },
     "execution_count": 29,
     "metadata": {},
     "output_type": "execute_result"
    }
   ],
   "source": [
    "kmeans = KMeans(n_clusters=3, random_state=42)\n",
    "labels = kmeans.fit_predict(pca_components)\n",
    "\n",
    "labels"
   ]
  },
  {
   "cell_type": "code",
   "execution_count": 30,
   "id": "d453805e",
   "metadata": {},
   "outputs": [
    {
     "data": {
      "text/html": [
       "<div>\n",
       "<style scoped>\n",
       "    .dataframe tbody tr th:only-of-type {\n",
       "        vertical-align: middle;\n",
       "    }\n",
       "\n",
       "    .dataframe tbody tr th {\n",
       "        vertical-align: top;\n",
       "    }\n",
       "\n",
       "    .dataframe thead th {\n",
       "        text-align: right;\n",
       "    }\n",
       "</style>\n",
       "<table border=\"1\" class=\"dataframe\">\n",
       "  <thead>\n",
       "    <tr style=\"text-align: right;\">\n",
       "      <th></th>\n",
       "      <th>ETF</th>\n",
       "      <th>Cluster</th>\n",
       "      <th>PC1</th>\n",
       "      <th>PC2</th>\n",
       "    </tr>\n",
       "  </thead>\n",
       "  <tbody>\n",
       "    <tr>\n",
       "      <th>0</th>\n",
       "      <td>XLB</td>\n",
       "      <td>0</td>\n",
       "      <td>10.212285</td>\n",
       "      <td>-1.532511</td>\n",
       "    </tr>\n",
       "    <tr>\n",
       "      <th>1</th>\n",
       "      <td>XLE</td>\n",
       "      <td>2</td>\n",
       "      <td>36.106485</td>\n",
       "      <td>30.902668</td>\n",
       "    </tr>\n",
       "    <tr>\n",
       "      <th>2</th>\n",
       "      <td>XLF</td>\n",
       "      <td>0</td>\n",
       "      <td>12.769803</td>\n",
       "      <td>-11.647753</td>\n",
       "    </tr>\n",
       "    <tr>\n",
       "      <th>3</th>\n",
       "      <td>XLI</td>\n",
       "      <td>0</td>\n",
       "      <td>6.664632</td>\n",
       "      <td>-5.614493</td>\n",
       "    </tr>\n",
       "    <tr>\n",
       "      <th>4</th>\n",
       "      <td>XLK</td>\n",
       "      <td>0</td>\n",
       "      <td>-0.246013</td>\n",
       "      <td>-19.280880</td>\n",
       "    </tr>\n",
       "    <tr>\n",
       "      <th>5</th>\n",
       "      <td>XLP</td>\n",
       "      <td>1</td>\n",
       "      <td>-20.027814</td>\n",
       "      <td>5.587603</td>\n",
       "    </tr>\n",
       "    <tr>\n",
       "      <th>6</th>\n",
       "      <td>XLU</td>\n",
       "      <td>1</td>\n",
       "      <td>-37.057289</td>\n",
       "      <td>24.069981</td>\n",
       "    </tr>\n",
       "    <tr>\n",
       "      <th>7</th>\n",
       "      <td>XLV</td>\n",
       "      <td>0</td>\n",
       "      <td>-8.921223</td>\n",
       "      <td>-10.230708</td>\n",
       "    </tr>\n",
       "    <tr>\n",
       "      <th>8</th>\n",
       "      <td>XLY</td>\n",
       "      <td>0</td>\n",
       "      <td>0.499135</td>\n",
       "      <td>-12.253908</td>\n",
       "    </tr>\n",
       "  </tbody>\n",
       "</table>\n",
       "</div>"
      ],
      "text/plain": [
       "   ETF  Cluster        PC1        PC2\n",
       "0  XLB        0  10.212285  -1.532511\n",
       "1  XLE        2  36.106485  30.902668\n",
       "2  XLF        0  12.769803 -11.647753\n",
       "3  XLI        0   6.664632  -5.614493\n",
       "4  XLK        0  -0.246013 -19.280880\n",
       "5  XLP        1 -20.027814   5.587603\n",
       "6  XLU        1 -37.057289  24.069981\n",
       "7  XLV        0  -8.921223 -10.230708\n",
       "8  XLY        0   0.499135 -12.253908"
      ]
     },
     "execution_count": 30,
     "metadata": {},
     "output_type": "execute_result"
    }
   ],
   "source": [
    "cluster_df = pd.DataFrame({\n",
    "    'ETF': returns.columns,\n",
    "    'Cluster': labels,\n",
    "    'PC1': pca_components[:, 0],\n",
    "    'PC2': pca_components[:, 1]\n",
    "})\n",
    "\n",
    "cluster_df"
   ]
  },
  {
   "cell_type": "code",
   "execution_count": 31,
   "id": "1a69cc94",
   "metadata": {},
   "outputs": [
    {
     "data": {
      "text/plain": [
       "<Axes: xlabel='PC1', ylabel='PC2'>"
      ]
     },
     "execution_count": 31,
     "metadata": {},
     "output_type": "execute_result"
    },
    {
     "data": {
      "image/png": "[encoded data removed]",
      "text/plain": [
       "<Figure size 640x480 with 1 Axes>"
      ]
     },
     "metadata": {},
     "output_type": "display_data"
    }
   ],
   "source": [
    "sns.scatterplot(data=cluster_df, x='PC1', y='PC2', hue='Cluster')\n"
   ]
  },
  {
   "cell_type": "code",
   "execution_count": null,
   "id": "976b423c",
   "metadata": {},
   "outputs": [
    {
     "data": {
      "text/html": [
       "<div>\n",
       "<style scoped>\n",
       "    .dataframe tbody tr th:only-of-type {\n",
       "        vertical-align: middle;\n",
       "    }\n",
       "\n",
       "    .dataframe tbody tr th {\n",
       "        vertical-align: top;\n",
       "    }\n",
       "\n",
       "    .dataframe thead th {\n",
       "        text-align: right;\n",
       "    }\n",
       "</style>\n",
       "<table border=\"1\" class=\"dataframe\">\n",
       "  <thead>\n",
       "    <tr style=\"text-align: right;\">\n",
       "      <th></th>\n",
       "      <th>ETF</th>\n",
       "      <th>Cluster</th>\n",
       "      <th>PC1</th>\n",
       "      <th>PC2</th>\n",
       "    </tr>\n",
       "  </thead>\n",
       "  <tbody>\n",
       "    <tr>\n",
       "      <th>0</th>\n",
       "      <td>XLB</td>\n",
       "      <td>0</td>\n",
       "      <td>10.212285</td>\n",
       "      <td>-1.532511</td>\n",
       "    </tr>\n",
       "    <tr>\n",
       "      <th>2</th>\n",
       "      <td>XLF</td>\n",
       "      <td>0</td>\n",
       "      <td>12.769803</td>\n",
       "      <td>-11.647753</td>\n",
       "    </tr>\n",
       "    <tr>\n",
       "      <th>3</th>\n",
       "      <td>XLI</td>\n",
       "      <td>0</td>\n",
       "      <td>6.664632</td>\n",
       "      <td>-5.614493</td>\n",
       "    </tr>\n",
       "    <tr>\n",
       "      <th>4</th>\n",
       "      <td>XLK</td>\n",
       "      <td>0</td>\n",
       "      <td>-0.246013</td>\n",
       "      <td>-19.280880</td>\n",
       "    </tr>\n",
       "    <tr>\n",
       "      <th>7</th>\n",
       "      <td>XLV</td>\n",
       "      <td>0</td>\n",
       "      <td>-8.921223</td>\n",
       "      <td>-10.230708</td>\n",
       "    </tr>\n",
       "    <tr>\n",
       "      <th>8</th>\n",
       "      <td>XLY</td>\n",
       "      <td>0</td>\n",
       "      <td>0.499135</td>\n",
       "      <td>-12.253908</td>\n",
       "    </tr>\n",
       "    <tr>\n",
       "      <th>6</th>\n",
       "      <td>XLU</td>\n",
       "      <td>1</td>\n",
       "      <td>-37.057289</td>\n",
       "      <td>24.069981</td>\n",
       "    </tr>\n",
       "    <tr>\n",
       "      <th>5</th>\n",
       "      <td>XLP</td>\n",
       "      <td>1</td>\n",
       "      <td>-20.027814</td>\n",
       "      <td>5.587603</td>\n",
       "    </tr>\n",
       "    <tr>\n",
       "      <th>1</th>\n",
       "      <td>XLE</td>\n",
       "      <td>2</td>\n",
       "      <td>36.106485</td>\n",
       "      <td>30.902668</td>\n",
       "    </tr>\n",
       "  </tbody>\n",
       "</table>\n",
       "</div>"
      ],
      "text/plain": [
       "   ETF  Cluster        PC1        PC2\n",
       "0  XLB        0  10.212285  -1.532511\n",
       "2  XLF        0  12.769803 -11.647753\n",
       "3  XLI        0   6.664632  -5.614493\n",
       "4  XLK        0  -0.246013 -19.280880\n",
       "7  XLV        0  -8.921223 -10.230708\n",
       "8  XLY        0   0.499135 -12.253908\n",
       "6  XLU        1 -37.057289  24.069981\n",
       "5  XLP        1 -20.027814   5.587603\n",
       "1  XLE        2  36.106485  30.902668"
      ]
     },
     "execution_count": 32,
     "metadata": {},
     "output_type": "execute_result"
    }
   ],
   "source": [
    "\n",
    "'''\n",
    "3 Cluster results:\n",
    "\n",
    "0 - XLB, XLF, XLI, XLK,XLV,XLY\n",
    "1 - XLU, XLP\n",
    "2 - XLE\n",
    "\n",
    "5 cluster results:\n",
    "\n",
    "0 - XLB, XLF, XLI\n",
    "1 - XLU\n",
    "2 - XLE\n",
    "3 - XLP\n",
    "4 - XLV, XLK, XLY\n",
    "    \n",
    "\n",
    "'''\n",
    "cluster_df = cluster_df.sort_values(by='Cluster')\n",
    "\n",
    "cluster_df\n"
   ]
  },
  {
   "cell_type": "code",
   "execution_count": null,
   "id": "df38a4b7",
   "metadata": {},
   "outputs": [],
   "source": []
  }
 ],
 "metadata": {
  "kernelspec": {
   "display_name": "Python 3",
   "language": "python",
   "name": "python3"
  },
  "language_info": {
   "codemirror_mode": {
    "name": "ipython",
    "version": 3
   },
   "file_extension": ".py",
   "mimetype": "text/x-python",
   "name": "python",
   "nbconvert_exporter": "python",
   "pygments_lexer": "ipython3",
   "version": "3.12.8"
  }
 },
 "nbformat": 4,
 "nbformat_minor": 5
}
