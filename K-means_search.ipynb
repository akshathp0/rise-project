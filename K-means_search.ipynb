{
 "cells": [
  {
   "cell_type": "code",
   "execution_count": 1,
   "id": "b196a598",
   "metadata": {},
   "outputs": [
    {
     "name": "stderr",
     "output_type": "stream",
     "text": [
      "/var/folders/qd/xclxh05s0x9509nblm6z434w0000gp/T/ipykernel_36255/2099229847.py:13: FutureWarning: YF.download() has changed argument auto_adjust default to True\n",
      "  prices = yf.download(tickers, start = '2010-01-01', end = '2020-12-31')['Close']\n",
      "[*********************100%***********************]  11 of 11 completed\n"
     ]
    },
    {
     "data": {
      "text/plain": [
       "array([[-1.34183178, -0.7486939 ,  1.27375469, ..., -1.39260135,\n",
       "         0.09665879,  1.51370883],\n",
       "       [ 2.00933827, -0.09714942, -0.16523225, ...,  1.87534355,\n",
       "         0.53041178, -1.79187912],\n",
       "       [ 0.29839289, -1.88847297,  2.03493852, ..., -1.74885803,\n",
       "        -1.12644956,  1.82097711],\n",
       "       ...,\n",
       "       [-0.47595772,  1.2785406 ,  0.19755704, ..., -0.14908707,\n",
       "         0.7413292 ,  0.10219271],\n",
       "       [-0.19261542, -0.04409702, -0.14855624, ..., -0.43282054,\n",
       "         2.16459658, -0.74155082],\n",
       "       [ 0.36816807, -0.24090834, -1.02416001, ...,  0.89541585,\n",
       "         0.87935063,  0.25846258]])"
      ]
     },
     "execution_count": 1,
     "metadata": {},
     "output_type": "execute_result"
    }
   ],
   "source": [
    "import yfinance as yf\n",
    "import pandas as pd\n",
    "from statsmodels.tsa.stattools import coint\n",
    "from sklearn.preprocessing import StandardScaler\n",
    "from sklearn.decomposition import PCA\n",
    "from sklearn.cluster import KMeans\n",
    "import numpy as np\n",
    "import seaborn as sns\n",
    "import matplotlib.pyplot as plt\n",
    "\n",
    "tickers = ['XLB', 'XLE', 'XLF', 'XLI', 'XLK', 'XLP', 'XLV', 'XLY', 'XLU', 'XLRE', 'XLC']\n",
    "\n",
    "prices = yf.download(tickers, start = '2010-01-01', end = '2020-12-31')['Close']\n",
    "\n",
    "prices.dropna(inplace=True)\n",
    "returns = prices.pct_change().dropna()\n",
    "\n",
    "scaler = StandardScaler()\n",
    "returns_scaled = scaler.fit_transform(returns.T)\n",
    "\n",
    "returns_scaled\n",
    "\n"
   ]
  },
  {
   "cell_type": "code",
   "execution_count": 2,
   "id": "fee299ab",
   "metadata": {},
   "outputs": [
    {
     "data": {
      "text/plain": [
       "array([[  6.43940134,  -0.37715086],\n",
       "       [ -1.72295387,  16.65880415],\n",
       "       [ 30.77816806, -16.34101306],\n",
       "       [ 10.12733611,  -1.73393384],\n",
       "       [  8.08424054,  -1.28962591],\n",
       "       [  0.49412596,  21.06244769],\n",
       "       [-12.32951417,  -5.71780007],\n",
       "       [-16.32865493, -10.90743584],\n",
       "       [-21.0314811 , -14.71974918],\n",
       "       [ -5.77106404,   3.32358444],\n",
       "       [  1.2603961 ,  10.04187247]])"
      ]
     },
     "execution_count": 2,
     "metadata": {},
     "output_type": "execute_result"
    }
   ],
   "source": [
    "pca = PCA(n_components=2)\n",
    "pca_components = pca.fit_transform(returns_scaled)\n",
    "\n",
    "pca_components"
   ]
  },
  {
   "cell_type": "code",
   "execution_count": 3,
   "id": "d081da2e",
   "metadata": {},
   "outputs": [
    {
     "name": "stderr",
     "output_type": "stream",
     "text": [
      "/opt/anaconda3/lib/python3.12/site-packages/sklearn/cluster/_kmeans.py:1412: FutureWarning: The default value of `n_init` will change from 10 to 'auto' in 1.4. Set the value of `n_init` explicitly to suppress the warning\n",
      "  super()._check_params_vs_input(X, default_n_init=10)\n"
     ]
    },
    {
     "data": {
      "text/plain": [
       "array([1, 1, 0, 1, 1, 1, 2, 2, 2, 1, 1], dtype=int32)"
      ]
     },
     "execution_count": 3,
     "metadata": {},
     "output_type": "execute_result"
    }
   ],
   "source": [
    "kmeans = KMeans(n_clusters=3, random_state=42)\n",
    "labels = kmeans.fit_predict(pca_components)\n",
    "\n",
    "labels"
   ]
  },
  {
   "cell_type": "code",
   "execution_count": 4,
   "id": "d453805e",
   "metadata": {},
   "outputs": [
    {
     "data": {
      "text/html": [
       "<div>\n",
       "<style scoped>\n",
       "    .dataframe tbody tr th:only-of-type {\n",
       "        vertical-align: middle;\n",
       "    }\n",
       "\n",
       "    .dataframe tbody tr th {\n",
       "        vertical-align: top;\n",
       "    }\n",
       "\n",
       "    .dataframe thead th {\n",
       "        text-align: right;\n",
       "    }\n",
       "</style>\n",
       "<table border=\"1\" class=\"dataframe\">\n",
       "  <thead>\n",
       "    <tr style=\"text-align: right;\">\n",
       "      <th></th>\n",
       "      <th>ETF</th>\n",
       "      <th>Cluster</th>\n",
       "      <th>PC1</th>\n",
       "      <th>PC2</th>\n",
       "    </tr>\n",
       "  </thead>\n",
       "  <tbody>\n",
       "    <tr>\n",
       "      <th>0</th>\n",
       "      <td>XLB</td>\n",
       "      <td>1</td>\n",
       "      <td>6.439401</td>\n",
       "      <td>-0.377151</td>\n",
       "    </tr>\n",
       "    <tr>\n",
       "      <th>1</th>\n",
       "      <td>XLC</td>\n",
       "      <td>1</td>\n",
       "      <td>-1.722954</td>\n",
       "      <td>16.658804</td>\n",
       "    </tr>\n",
       "    <tr>\n",
       "      <th>2</th>\n",
       "      <td>XLE</td>\n",
       "      <td>0</td>\n",
       "      <td>30.778168</td>\n",
       "      <td>-16.341013</td>\n",
       "    </tr>\n",
       "    <tr>\n",
       "      <th>3</th>\n",
       "      <td>XLF</td>\n",
       "      <td>1</td>\n",
       "      <td>10.127336</td>\n",
       "      <td>-1.733934</td>\n",
       "    </tr>\n",
       "    <tr>\n",
       "      <th>4</th>\n",
       "      <td>XLI</td>\n",
       "      <td>1</td>\n",
       "      <td>8.084241</td>\n",
       "      <td>-1.289626</td>\n",
       "    </tr>\n",
       "    <tr>\n",
       "      <th>5</th>\n",
       "      <td>XLK</td>\n",
       "      <td>1</td>\n",
       "      <td>0.494126</td>\n",
       "      <td>21.062448</td>\n",
       "    </tr>\n",
       "    <tr>\n",
       "      <th>6</th>\n",
       "      <td>XLP</td>\n",
       "      <td>2</td>\n",
       "      <td>-12.329514</td>\n",
       "      <td>-5.717800</td>\n",
       "    </tr>\n",
       "    <tr>\n",
       "      <th>7</th>\n",
       "      <td>XLRE</td>\n",
       "      <td>2</td>\n",
       "      <td>-16.328655</td>\n",
       "      <td>-10.907436</td>\n",
       "    </tr>\n",
       "    <tr>\n",
       "      <th>8</th>\n",
       "      <td>XLU</td>\n",
       "      <td>2</td>\n",
       "      <td>-21.031481</td>\n",
       "      <td>-14.719749</td>\n",
       "    </tr>\n",
       "    <tr>\n",
       "      <th>9</th>\n",
       "      <td>XLV</td>\n",
       "      <td>1</td>\n",
       "      <td>-5.771064</td>\n",
       "      <td>3.323584</td>\n",
       "    </tr>\n",
       "    <tr>\n",
       "      <th>10</th>\n",
       "      <td>XLY</td>\n",
       "      <td>1</td>\n",
       "      <td>1.260396</td>\n",
       "      <td>10.041872</td>\n",
       "    </tr>\n",
       "  </tbody>\n",
       "</table>\n",
       "</div>"
      ],
      "text/plain": [
       "     ETF  Cluster        PC1        PC2\n",
       "0    XLB        1   6.439401  -0.377151\n",
       "1    XLC        1  -1.722954  16.658804\n",
       "2    XLE        0  30.778168 -16.341013\n",
       "3    XLF        1  10.127336  -1.733934\n",
       "4    XLI        1   8.084241  -1.289626\n",
       "5    XLK        1   0.494126  21.062448\n",
       "6    XLP        2 -12.329514  -5.717800\n",
       "7   XLRE        2 -16.328655 -10.907436\n",
       "8    XLU        2 -21.031481 -14.719749\n",
       "9    XLV        1  -5.771064   3.323584\n",
       "10   XLY        1   1.260396  10.041872"
      ]
     },
     "execution_count": 4,
     "metadata": {},
     "output_type": "execute_result"
    }
   ],
   "source": [
    "cluster_df = pd.DataFrame({\n",
    "    'ETF': returns.columns,\n",
    "    'Cluster': labels,\n",
    "    'PC1': pca_components[:, 0],\n",
    "    'PC2': pca_components[:, 1]\n",
    "})\n",
    "\n",
    "cluster_df"
   ]
  },
  {
   "cell_type": "code",
   "execution_count": 5,
   "id": "1a69cc94",
   "metadata": {},
   "outputs": [
    {
     "data": {
      "text/plain": [
       "<Axes: xlabel='PC1', ylabel='PC2'>"
      ]
     },
     "execution_count": 5,
     "metadata": {},
     "output_type": "execute_result"
    },
    {
     "data": {
      "image/png": "[encoded data removed]",
      "text/plain": [
       "<Figure size 640x480 with 1 Axes>"
      ]
     },
     "metadata": {},
     "output_type": "display_data"
    }
   ],
   "source": [
    "sns.scatterplot(data=cluster_df, x='PC1', y='PC2', hue='Cluster')\n"
   ]
  },
  {
   "cell_type": "code",
   "execution_count": 6,
   "id": "976b423c",
   "metadata": {},
   "outputs": [
    {
     "data": {
      "text/html": [
       "<div>\n",
       "<style scoped>\n",
       "    .dataframe tbody tr th:only-of-type {\n",
       "        vertical-align: middle;\n",
       "    }\n",
       "\n",
       "    .dataframe tbody tr th {\n",
       "        vertical-align: top;\n",
       "    }\n",
       "\n",
       "    .dataframe thead th {\n",
       "        text-align: right;\n",
       "    }\n",
       "</style>\n",
       "<table border=\"1\" class=\"dataframe\">\n",
       "  <thead>\n",
       "    <tr style=\"text-align: right;\">\n",
       "      <th></th>\n",
       "      <th>ETF</th>\n",
       "      <th>Cluster</th>\n",
       "      <th>PC1</th>\n",
       "      <th>PC2</th>\n",
       "    </tr>\n",
       "  </thead>\n",
       "  <tbody>\n",
       "    <tr>\n",
       "      <th>2</th>\n",
       "      <td>XLE</td>\n",
       "      <td>0</td>\n",
       "      <td>30.778168</td>\n",
       "      <td>-16.341013</td>\n",
       "    </tr>\n",
       "    <tr>\n",
       "      <th>0</th>\n",
       "      <td>XLB</td>\n",
       "      <td>1</td>\n",
       "      <td>6.439401</td>\n",
       "      <td>-0.377151</td>\n",
       "    </tr>\n",
       "    <tr>\n",
       "      <th>1</th>\n",
       "      <td>XLC</td>\n",
       "      <td>1</td>\n",
       "      <td>-1.722954</td>\n",
       "      <td>16.658804</td>\n",
       "    </tr>\n",
       "    <tr>\n",
       "      <th>3</th>\n",
       "      <td>XLF</td>\n",
       "      <td>1</td>\n",
       "      <td>10.127336</td>\n",
       "      <td>-1.733934</td>\n",
       "    </tr>\n",
       "    <tr>\n",
       "      <th>4</th>\n",
       "      <td>XLI</td>\n",
       "      <td>1</td>\n",
       "      <td>8.084241</td>\n",
       "      <td>-1.289626</td>\n",
       "    </tr>\n",
       "    <tr>\n",
       "      <th>5</th>\n",
       "      <td>XLK</td>\n",
       "      <td>1</td>\n",
       "      <td>0.494126</td>\n",
       "      <td>21.062448</td>\n",
       "    </tr>\n",
       "    <tr>\n",
       "      <th>9</th>\n",
       "      <td>XLV</td>\n",
       "      <td>1</td>\n",
       "      <td>-5.771064</td>\n",
       "      <td>3.323584</td>\n",
       "    </tr>\n",
       "    <tr>\n",
       "      <th>10</th>\n",
       "      <td>XLY</td>\n",
       "      <td>1</td>\n",
       "      <td>1.260396</td>\n",
       "      <td>10.041872</td>\n",
       "    </tr>\n",
       "    <tr>\n",
       "      <th>6</th>\n",
       "      <td>XLP</td>\n",
       "      <td>2</td>\n",
       "      <td>-12.329514</td>\n",
       "      <td>-5.717800</td>\n",
       "    </tr>\n",
       "    <tr>\n",
       "      <th>7</th>\n",
       "      <td>XLRE</td>\n",
       "      <td>2</td>\n",
       "      <td>-16.328655</td>\n",
       "      <td>-10.907436</td>\n",
       "    </tr>\n",
       "    <tr>\n",
       "      <th>8</th>\n",
       "      <td>XLU</td>\n",
       "      <td>2</td>\n",
       "      <td>-21.031481</td>\n",
       "      <td>-14.719749</td>\n",
       "    </tr>\n",
       "  </tbody>\n",
       "</table>\n",
       "</div>"
      ],
      "text/plain": [
       "     ETF  Cluster        PC1        PC2\n",
       "2    XLE        0  30.778168 -16.341013\n",
       "0    XLB        1   6.439401  -0.377151\n",
       "1    XLC        1  -1.722954  16.658804\n",
       "3    XLF        1  10.127336  -1.733934\n",
       "4    XLI        1   8.084241  -1.289626\n",
       "5    XLK        1   0.494126  21.062448\n",
       "9    XLV        1  -5.771064   3.323584\n",
       "10   XLY        1   1.260396  10.041872\n",
       "6    XLP        2 -12.329514  -5.717800\n",
       "7   XLRE        2 -16.328655 -10.907436\n",
       "8    XLU        2 -21.031481 -14.719749"
      ]
     },
     "execution_count": 6,
     "metadata": {},
     "output_type": "execute_result"
    }
   ],
   "source": [
    "\n",
    "'''\n",
    "3 Cluster results:\n",
    "\n",
    "0 - XLB, XLF, XLI, XLK,XLV,XLY\n",
    "1 - XLU, XLP\n",
    "2 - XLE\n",
    "\n",
    "5 cluster results:\n",
    "\n",
    "0 - XLB, XLF, XLI\n",
    "1 - XLU\n",
    "2 - XLE\n",
    "3 - XLP\n",
    "4 - XLV, XLK, XLY\n",
    "    \n",
    "\n",
    "'''\n",
    "cluster_df = cluster_df.sort_values(by='Cluster')\n",
    "\n",
    "cluster_df\n"
   ]
  }
 ],
 "metadata": {
  "kernelspec": {
   "display_name": "base",
   "language": "python",
   "name": "python3"
  },
  "language_info": {
   "codemirror_mode": {
    "name": "ipython",
    "version": 3
   },
   "file_extension": ".py",
   "mimetype": "text/x-python",
   "name": "python",
   "nbconvert_exporter": "python",
   "pygments_lexer": "ipython3",
   "version": "3.12.2"
  }
 },
 "nbformat": 4,
 "nbformat_minor": 5
}
