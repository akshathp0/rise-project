{
 "cells": [
  {
   "cell_type": "code",
   "execution_count": null,
   "id": "d30daeb3",
   "metadata": {},
   "outputs": [
    {
     "name": "stderr",
     "output_type": "stream",
     "text": [
      "C:\\Users\\anair26\\AppData\\Local\\Temp\\ipykernel_21300\\4010936096.py:18: FutureWarning: YF.download() has changed argument auto_adjust default to True\n",
      "  prices = yf.download(selected_etfs, start = '2015-01-01', end = '2019-12-31')['Close']\n",
      "[*********************100%***********************]  10 of 10 completed"
     ]
    },
    {
     "name": "stdout",
     "output_type": "stream",
     "text": [
      "<class 'pandas.core.frame.DataFrame'>\n",
      "DatetimeIndex: 1257 entries, 2015-01-02 to 2019-12-30\n",
      "Data columns (total 10 columns):\n",
      " #   Column  Non-Null Count  Dtype  \n",
      "---  ------  --------------  -----  \n",
      " 0   ARKK    1257 non-null   float64\n",
      " 1   ARKW    1257 non-null   float64\n",
      " 2   EEM     1257 non-null   float64\n",
      " 3   IEMG    1257 non-null   float64\n",
      " 4   ITA     1257 non-null   float64\n",
      " 5   SHY     1257 non-null   float64\n",
      " 6   SOXX    1257 non-null   float64\n",
      " 7   SPTL    1257 non-null   float64\n",
      " 8   TLT     1257 non-null   float64\n",
      " 9   VGSH    1257 non-null   float64\n",
      "dtypes: float64(10)\n",
      "memory usage: 108.0 KB\n"
     ]
    },
    {
     "name": "stderr",
     "output_type": "stream",
     "text": [
      "\n"
     ]
    }
   ],
   "source": [
    "import yfinance as yf\n",
    "import pandas as pd\n",
    "from statsmodels.tsa.stattools import coint\n",
    "from statsmodels.tsa.stattools import adfuller\n",
    "import statsmodels.api as sm\n",
    "from sklearn.preprocessing import StandardScaler\n",
    "from sklearn.decomposition import PCA\n",
    "from sklearn.metrics import silhouette_score\n",
    "from sklearn.cluster import KMeans\n",
    "import seaborn as sns\n",
    "import matplotlib.pyplot as plt\n",
    "import xgboost as xgb\n",
    "import numpy as np\n",
    "\n",
    "selected_etfs = ['IEMG', 'EEM', 'ARKK', 'ARKW', 'TLT', 'SPTL', 'SHY', 'VGSH','SOXX', 'ITA']\n",
    "\n",
    "\n",
    "prices = yf.download(selected_etfs, start = '2015-01-01', end = '2024-12-31')['Close']\n",
    "\n",
    "train_cutoff = pd.Timestamp(\"2020-01-01\")\n",
    "\n",
    "prices = prices.dropna()\n",
    "all_pairs = [('IEMG', 'EEM'), ('ARKK', 'ARKW'), ('TLT', 'SPTL'), ('SHY', 'VGSH'),('SOXX', 'ITA')]\n",
    "\n",
    "prices.info()\n"
   ]
  },
  {
   "cell_type": "code",
   "execution_count": 3,
   "id": "de00cea8",
   "metadata": {},
   "outputs": [],
   "source": [
    "def generate_labels(z, upper=1.5, lower=-1.5):\n",
    "    return np.where(z > upper, -1,    # SHORT spread\n",
    "           np.where(z < lower, 1,     # LONG spread\n",
    "           0))                        # No trade\n",
    "\n"
   ]
  },
  {
   "cell_type": "code",
   "execution_count": 4,
   "id": "3ada13a2",
   "metadata": {},
   "outputs": [
    {
     "name": "stdout",
     "output_type": "stream",
     "text": [
      "<class 'pandas.core.frame.DataFrame'>\n",
      "RangeIndex: 5995 entries, 0 to 5994\n",
      "Data columns (total 14 columns):\n",
      " #   Column              Non-Null Count  Dtype         \n",
      "---  ------              --------------  -----         \n",
      " 0   Date                5995 non-null   datetime64[ns]\n",
      " 1   pair                5995 non-null   object        \n",
      " 2   spread              5995 non-null   float64       \n",
      " 3   rolling_mean        5995 non-null   float64       \n",
      " 4   rolling_std         5995 non-null   float64       \n",
      " 5   z_score             5995 non-null   float64       \n",
      " 6   rolling_volatility  5995 non-null   float64       \n",
      " 7   label               5995 non-null   int64         \n",
      " 8   z_score_lag1        5995 non-null   float64       \n",
      " 9   spread_lag1         5995 non-null   float64       \n",
      " 10  z_score_lag2        5995 non-null   float64       \n",
      " 11  spread_lag2         5995 non-null   float64       \n",
      " 12  z_score_lag3        5995 non-null   float64       \n",
      " 13  spread_lag3         5995 non-null   float64       \n",
      "dtypes: datetime64[ns](1), float64(11), int64(1), object(1)\n",
      "memory usage: 655.8+ KB\n"
     ]
    }
   ],
   "source": [
    "import pandas as pd\n",
    "import statsmodels.api as sm\n",
    "\n",
    "# Assumes `prices` is your DataFrame of adjusted-close prices,\n",
    "# and `all_pairs` is a list of tuples: [(etf1, etf2), …]\n",
    "\n",
    "lookback = 30\n",
    "spread_records = []\n",
    "\n",
    "for etf_a, etf_b in all_pairs:\n",
    "    # Align prices and drop any NaNs for the pair\n",
    "    pair_prices = pd.concat([prices[etf_a], prices[etf_b]], axis=1).dropna()\n",
    "    a = pair_prices[etf_a]\n",
    "    b = pair_prices[etf_b]\n",
    "\n",
    "    # 1) Estimate hedge ratio via OLS\n",
    "    model = sm.OLS(a, sm.add_constant(b)).fit()\n",
    "    hedge_ratio = model.params[etf_b]\n",
    "\n",
    "    # 2) Compute spread and rolling statistics\n",
    "    spread = a - hedge_ratio * b\n",
    "    rolling_mean = spread.rolling(window=lookback).mean()\n",
    "    rolling_std = spread.rolling(window=lookback).std()\n",
    "    z_score = (spread - rolling_mean) / rolling_std\n",
    "    rolling_volatility = z_score.rolling(window=lookback).std()\n",
    "\n",
    "    # 3) Build DataFrame for this pair\n",
    "    df_pair = pd.DataFrame({\n",
    "        'Date': spread.index,\n",
    "        'pair': f\"{etf_a}-{etf_b}\",\n",
    "        'spread': spread,\n",
    "        'rolling_mean': rolling_mean,\n",
    "        'rolling_std': rolling_std,\n",
    "        'z_score': z_score,\n",
    "        'rolling_volatility': rolling_volatility\n",
    "    })\n",
    "\n",
    "    spread_records.append(df_pair)\n",
    "\n",
    "# Combine all pairs into a single long-form DataFrame\n",
    "spread_long = pd.concat(spread_records, ignore_index=True)\n",
    "\n",
    "# label feature\n",
    "spread_long['label'] = generate_labels(spread_long['z_score'])\n",
    "\n",
    "# 4) Add lagged features for z_score and spread\n",
    "spread_long['z_score_lag1'] = spread_long.groupby('pair')['z_score'].shift(1)\n",
    "spread_long['spread_lag1'] = spread_long.groupby('pair')['spread'].shift(1)\n",
    "\n",
    "spread_long['z_score_lag2'] = spread_long.groupby('pair')['z_score'].shift(2)\n",
    "spread_long['spread_lag2'] = spread_long.groupby('pair')['spread'].shift(2)\n",
    "\n",
    "spread_long['z_score_lag3'] = spread_long.groupby('pair')['z_score'].shift(3)\n",
    "spread_long['spread_lag3'] = spread_long.groupby('pair')['spread'].shift(3)\n",
    "\n",
    "\n",
    "# 5) Final cleanup\n",
    "spread_long.dropna(inplace=True)\n",
    "spread_long.sort_values(['pair', 'Date'], inplace=True)\n",
    "spread_long.reset_index(drop=True, inplace=True)\n",
    "\n",
    "# `spread_long` now contains columns:\n",
    "# ['Date', 'pair', 'spread', 'rolling_mean', 'rolling_std',\n",
    "#  'z_score', 'rolling_volatility', 'z_score_lag1', 'spread_lag1']\n",
    "\n",
    "\n",
    "spread_long.info()\n"
   ]
  },
  {
   "cell_type": "code",
   "execution_count": 41,
   "id": "d6ebd4e3",
   "metadata": {},
   "outputs": [
    {
     "name": "stdout",
     "output_type": "stream",
     "text": [
      "0       0\n",
      "1       0\n",
      "2       0\n",
      "3       0\n",
      "4       0\n",
      "       ..\n",
      "5990    4\n",
      "5991    4\n",
      "5992    4\n",
      "5993    4\n",
      "5994    4\n",
      "Name: pair_encoded, Length: 5995, dtype: int64\n"
     ]
    }
   ],
   "source": [
    "from sklearn.preprocessing import LabelEncoder\n",
    "from sklearn.model_selection import train_test_split \n",
    "\n",
    "\n",
    "le_pairs = LabelEncoder()\n",
    "spread_long['pair_encoded'] = le_pairs.fit_transform(spread_long['pair'])\n",
    "\n",
    "print(spread_long['pair_encoded'])\n"
   ]
  },
  {
   "cell_type": "code",
   "execution_count": null,
   "id": "9a92fb0c",
   "metadata": {},
   "outputs": [],
   "source": [
    "features = [\n",
    "    'pair_encoded','z_score_lag1','rolling_std','rolling_mean',\n",
    "    'spread','spread_lag1','z_score','rolling_volatility',\n",
    "    'spread_lag2','spread_lag3','z_score_lag2','z_score_lag3'\n",
    "    ]\n",
    "target = 'label'\n",
    "\n",
    "\n",
    "train_spread_long = spread_long[spread_long['Date'] < train_cutoff]\n",
    "test_spread_long = spread_long[spread_long['Date'] >= train_cutoff]\n",
    "\n",
    "\n",
    "X = train_spread_long[features]\n",
    "y_nolabel = train_spread_long[target]\n",
    "\n",
    "label_map = {-1: 0, 0: 1, 1: 2}\n",
    "y = y_nolabel.map(label_map)\n",
    "\n",
    "\n",
    "X_train, X_test, y_train, y_test = train_test_split(\n",
    "    X, y, test_size=0.2, shuffle=False  # shuffle=False preserves time order\n",
    ")\n"
   ]
  },
  {
   "cell_type": "code",
   "execution_count": 43,
   "id": "5bab140c",
   "metadata": {},
   "outputs": [
    {
     "name": "stdout",
     "output_type": "stream",
     "text": [
      "Fitting 3 folds for each of 243 candidates, totalling 729 fits\n",
      "Best params: {'colsample_bytree': 0.8, 'learning_rate': 0.2, 'max_depth': 5, 'n_estimators': 50, 'subsample': 0.6}\n",
      "Best CV score: 0.9981236969392896\n"
     ]
    },
    {
     "name": "stderr",
     "output_type": "stream",
     "text": [
      "c:\\Users\\anair26\\AppData\\Local\\Programs\\Python\\Python312\\Lib\\site-packages\\xgboost\\training.py:183: UserWarning: [13:10:04] WARNING: C:\\actions-runner\\_work\\xgboost\\xgboost\\src\\learner.cc:738: \n",
      "Parameters: { \"use_label_encoder\" } are not used.\n",
      "\n",
      "  bst.update(dtrain, iteration=i, fobj=obj)\n"
     ]
    }
   ],
   "source": [
    "import xgboost as xgb\n",
    "from sklearn.model_selection import GridSearchCV\n",
    "\n",
    "\n",
    "model = xgb.XGBClassifier(\n",
    "    objective='multi:softprob',  # For multi-class (long, short, neutral)\n",
    "    num_class=3,\n",
    "    eval_metric='mlogloss',\n",
    "    use_label_encoder=False\n",
    ")\n",
    "\n",
    "param_grid = {\n",
    "    'n_estimators':    [50, 100, 200],\n",
    "    'max_depth':       [3, 5, 7],\n",
    "    'learning_rate':   [0.01, 0.1, 0.2],\n",
    "    'subsample':       [0.6, 0.8, 1.0],\n",
    "    'colsample_bytree': [0.6, 0.8, 1.0],\n",
    "}\n",
    "\n",
    "grid = GridSearchCV(\n",
    "    estimator=model,\n",
    "    param_grid=param_grid,\n",
    "    scoring='accuracy',    # or your custom backtest metric\n",
    "    cv=3,                  # e.g. 3-fold CV (use TimeSeriesSplit for time series)\n",
    "    verbose=1,\n",
    "    n_jobs=-1\n",
    ")\n",
    "\n",
    "grid.fit(X_train, y_train)\n",
    "\n",
    "best_model = grid.best_estimator_\n",
    "print(\"Best params:\", grid.best_params_)\n",
    "print(\"Best CV score:\", grid.best_score_)\n",
    "\n",
    "y_pred = best_model.predict(X_test)\n",
    "\n",
    "inv_map = {v:k for k,v in label_map.items()}\n",
    "y_pred_original = pd.Series(y_pred).map(inv_map)\n"
   ]
  },
  {
   "cell_type": "code",
   "execution_count": 44,
   "id": "8f8d4602",
   "metadata": {},
   "outputs": [
    {
     "data": {
      "image/png": "[encoded data removed]",
      "text/plain": [
       "<Figure size 800x500 with 1 Axes>"
      ]
     },
     "metadata": {},
     "output_type": "display_data"
    },
    {
     "name": "stdout",
     "output_type": "stream",
     "text": [
      "[0.00752808 0.0092342  0.01107765 0.0111385  0.0137138  0.0156497\n",
      " 0.01646168 0.01952847 0.02146657 0.02250929 0.07838622 0.7733059 ]\n"
     ]
    }
   ],
   "source": [
    "def feature_importance(Model,feature_df):\n",
    "\n",
    "    fi = Model.feature_importances_\n",
    "    feat_names = feature_df.columns\n",
    "\n",
    "    # Create a sorted bar chart\n",
    "    indices = np.argsort(fi)[::-1]\n",
    "    plt.figure(figsize=(8,5))\n",
    "    plt.barh(feat_names[indices], fi[indices])\n",
    "    plt.title(\"Feature Importances\")\n",
    "    plt.xlabel(\"Relative Importance\")\n",
    "    plt.show()\n",
    "\n",
    "    print(np.sort(fi))\n",
    "\n",
    "feature_importance(best_model,X)"
   ]
  },
  {
   "cell_type": "code",
   "execution_count": 45,
   "id": "b48d49f9",
   "metadata": {},
   "outputs": [
    {
     "name": "stdout",
     "output_type": "stream",
     "text": [
      "              precision    recall  f1-score   support\n",
      "\n",
      "           0       0.99      1.00      1.00       106\n",
      "           1       1.00      1.00      1.00       992\n",
      "           2       1.00      0.99      1.00       101\n",
      "\n",
      "    accuracy                           1.00      1199\n",
      "   macro avg       1.00      1.00      1.00      1199\n",
      "weighted avg       1.00      1.00      1.00      1199\n",
      "\n"
     ]
    }
   ],
   "source": [
    "from sklearn.metrics import classification_report\n",
    "\n",
    "y_pred = best_model.predict(X_test)\n",
    "print(classification_report(y_test, y_pred))\n"
   ]
  },
  {
   "cell_type": "code",
   "execution_count": 46,
   "id": "c9e3f321",
   "metadata": {},
   "outputs": [
    {
     "name": "stdout",
     "output_type": "stream",
     "text": [
      "['z_score_lag1', 'rolling_mean', 'z_score', 'z_score_lag3']\n"
     ]
    }
   ],
   "source": [
    "# re-train with edited features\n",
    "\n",
    "newdict = dict(zip(feat_names,fi))\n",
    "\n",
    "for k in list(newdict):        # list() so we can delete while iterating\n",
    "    if newdict[k] <= np.float32(0.02):\n",
    "        del newdict[k]\n",
    "\n",
    "\n",
    "features = list(newdict.keys())\n",
    "\n",
    "print(features)\n"
   ]
  },
  {
   "cell_type": "code",
   "execution_count": null,
   "id": "c13d7dc2",
   "metadata": {},
   "outputs": [
    {
     "name": "stdout",
     "output_type": "stream",
     "text": [
      "Fitting 3 folds for each of 243 candidates, totalling 729 fits\n",
      "Best params: {'colsample_bytree': 0.6, 'learning_rate': 0.1, 'max_depth': 3, 'n_estimators': 100, 'subsample': 0.8}\n",
      "Best CV score: 0.9979149724105308\n",
      "              precision    recall  f1-score   support\n",
      "\n",
      "           0       0.99      1.00      1.00       106\n",
      "           1       1.00      1.00      1.00       992\n",
      "           2       1.00      0.99      1.00       101\n",
      "\n",
      "    accuracy                           1.00      1199\n",
      "   macro avg       1.00      1.00      1.00      1199\n",
      "weighted avg       1.00      1.00      1.00      1199\n",
      "\n"
     ]
    },
    {
     "name": "stderr",
     "output_type": "stream",
     "text": [
      "c:\\Users\\anair26\\AppData\\Local\\Programs\\Python\\Python312\\Lib\\site-packages\\xgboost\\training.py:183: UserWarning: [13:15:22] WARNING: C:\\actions-runner\\_work\\xgboost\\xgboost\\src\\learner.cc:738: \n",
      "Parameters: { \"use_label_encoder\" } are not used.\n",
      "\n",
      "  bst.update(dtrain, iteration=i, fobj=obj)\n"
     ]
    }
   ],
   "source": [
    "label_map = {-1: 0, 0: 1, 1: 2}\n",
    "y = y_nolabel.map(label_map)\n",
    "\n",
    "X_cut = train_spread_long[features]\n",
    "\n",
    "X_train, X_test, y_train, y_test = train_test_split(\n",
    "    X_cut, y, test_size=0.2, shuffle=False  # shuffle=False preserves time order\n",
    ")\n",
    "\n",
    "grid.fit(X_train, y_train)\n",
    "\n",
    "best_model_2 = grid.best_estimator_\n",
    "print(\"Best params:\", grid.best_params_)\n",
    "print(\"Best CV score:\", grid.best_score_)\n",
    "\n",
    "y_pred = best_model_2.predict(X_test)\n",
    "\n",
    "inv_map = {v:k for k,v in label_map.items()}\n",
    "y_pred_original = pd.Series(y_pred).map(inv_map)\n",
    "\n",
    "y_pred = best_model_2.predict(X_test)\n",
    "print(classification_report(y_test, y_pred))\n"
   ]
  },
  {
   "cell_type": "code",
   "execution_count": 49,
   "id": "b16f0ab6",
   "metadata": {},
   "outputs": [
    {
     "data": {
      "image/png": "[encoded data removed]",
      "text/plain": [
       "<Figure size 800x500 with 1 Axes>"
      ]
     },
     "metadata": {},
     "output_type": "display_data"
    },
    {
     "name": "stdout",
     "output_type": "stream",
     "text": [
      "[0.01374963 0.03462874 0.12498004 0.8266416 ]\n"
     ]
    }
   ],
   "source": [
    "feature_importance(best_model_2,X_cut)"
   ]
  },
  {
   "cell_type": "code",
   "execution_count": null,
   "id": "ea78cef8",
   "metadata": {},
   "outputs": [],
   "source": []
  }
 ],
 "metadata": {
  "kernelspec": {
   "display_name": "Python 3",
   "language": "python",
   "name": "python3"
  },
  "language_info": {
   "codemirror_mode": {
    "name": "ipython",
    "version": 3
   },
   "file_extension": ".py",
   "mimetype": "text/x-python",
   "name": "python",
   "nbconvert_exporter": "python",
   "pygments_lexer": "ipython3",
   "version": "3.12.8"
  }
 },
 "nbformat": 4,
 "nbformat_minor": 5
}
