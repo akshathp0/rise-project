{
 "cells": [
  {
   "cell_type": "code",
   "execution_count": 2,
   "metadata": {},
   "outputs": [
    {
     "name": "stderr",
     "output_type": "stream",
     "text": [
      "[*********************100%***********************]  2 of 2 completed\n",
      "[*********************100%***********************]  2 of 2 completed\n",
      "[*********************100%***********************]  2 of 2 completed\n",
      "[*********************100%***********************]  2 of 2 completed\n",
      "[*********************100%***********************]  2 of 2 completed\n",
      "[*********************100%***********************]  2 of 2 completed\n",
      "[*********************100%***********************]  2 of 2 completed\n",
      "[*********************100%***********************]  2 of 2 completed\n",
      "[*********************100%***********************]  2 of 2 completed\n"
     ]
    },
    {
     "name": "stdout",
     "output_type": "stream",
     "text": [
      "Cointegration Test Results:\n",
      "   ETF Pair  Cointegration p-value\n",
      "0  XLV  XLK                 0.0069\n",
      "1  XLI  XLF                 0.0160\n",
      "2  XLB  XLI                 0.2573\n",
      "3  XLK  XLY                 0.7830\n",
      "4  XLI  XLK                 0.8027\n",
      "5  XLB  XLF                 0.8136\n",
      "6  XLY  XLB                 0.9248\n",
      "7  XLY  XLI                 0.9932\n",
      "8  XLY  XLF                 1.0000\n"
     ]
    }
   ],
   "source": [
    "import yfinance as yf\n",
    "import pandas as pd\n",
    "import statsmodels.api as sm\n",
    "from statsmodels.tsa.stattools import coint\n",
    "import warnings\n",
    "\n",
    "# Suppress warnings for clean output\n",
    "warnings.filterwarnings('ignore')\n",
    "\n",
    "# ------------------------\n",
    "# List of correlated pairs (manually input from correlation results)\n",
    "pairs = [\n",
    "    ('XLB', 'XLI'),\n",
    "    ('XLI', 'XLF'),\n",
    "    ('XLK', 'XLY'),\n",
    "    ('XLY', 'XLI'),\n",
    "    ('XLB', 'XLF'),\n",
    "    ('XLY', 'XLF'),\n",
    "    ('XLY', 'XLB'),\n",
    "    ('XLI', 'XLK'),\n",
    "    ('XLV', 'XLK')\n",
    "]\n",
    "\n",
    "# ------------------------\n",
    "# Cointegration Test Loop\n",
    "\n",
    "results = []\n",
    "\n",
    "for etf1, etf2 in pairs:\n",
    "    data = yf.download([etf1, etf2], start=\"2015-07-22\", end=\"2020-07-22\", auto_adjust=False)\n",
    "    \n",
    "    # Use Adjusted Close if available, otherwise Close\n",
    "    if 'Adj Close' in data.columns:\n",
    "        data = data['Adj Close'].dropna()\n",
    "    else:\n",
    "        data = data['Close'].dropna()\n",
    "    \n",
    "    # Proceed if both ETF columns are present in data\n",
    "    if len(data) > 0 and etf1 in data.columns and etf2 in data.columns:\n",
    "        score, pvalue, _ = coint(data[etf1], data[etf2])\n",
    "        results.append({\n",
    "            'ETF': etf1,\n",
    "            'Pair': etf2,\n",
    "            'Cointegration p-value': round(pvalue, 4)\n",
    "        })\n",
    "\n",
    "# ------------------------\n",
    "# Results DataFrame\n",
    "\n",
    "results_df = pd.DataFrame(results).sort_values('Cointegration p-value').reset_index(drop=True)\n",
    "\n",
    "print(\"Cointegration Test Results:\")\n",
    "print(results_df)\n",
    "\n",
    "# Optional — Save Results\n",
    "# results_df.to_csv('cointegration_test_results.csv', index=False)\n"
   ]
  }
 ],
 "metadata": {
  "kernelspec": {
   "display_name": "myenv",
   "language": "python",
   "name": "python3"
  },
  "language_info": {
   "codemirror_mode": {
    "name": "ipython",
    "version": 3
   },
   "file_extension": ".py",
   "mimetype": "text/x-python",
   "name": "python",
   "nbconvert_exporter": "python",
   "pygments_lexer": "ipython3",
   "version": "3.13.5"
  }
 },
 "nbformat": 4,
 "nbformat_minor": 2
}
